{
 "cells": [
  {
   "cell_type": "code",
   "execution_count": 1,
   "metadata": {},
   "outputs": [],
   "source": [
    "import numpy as np\n",
    "import math\n",
    "from sympy.ntheory import isprime"
   ]
  },
  {
   "cell_type": "code",
   "execution_count": 140,
   "metadata": {},
   "outputs": [],
   "source": [
    "#useful number theory definitions and helper functions\n",
    "def inv2(k):\n",
    "    if (k % 2 == 0):\n",
    "        print(\"Invalid input:\",k,\"is not odd\")\n",
    "        return -1\n",
    "    return int((k+1)/2)\n",
    "\n",
    "def summatrix(m):\n",
    "    return sum([sum(m[i]) for i in range(len(m))])"
   ]
  },
  {
   "cell_type": "code",
   "execution_count": 36,
   "metadata": {},
   "outputs": [],
   "source": [
    "#generate random pure states with local dimension d and size n\n",
    "def random_pure_state(n,d):\n",
    "    vec = np.random.rand(d**n)\n",
    "    norm = np.linalg.norm(vec)\n",
    "    phases = np.exp(np.random.rand(d**n)*2j*np.pi)\n",
    "    return vec*phases/norm\n",
    "\n",
    "#generate random mixed states with local dimension d and size n as statistical mixtures of up to j pure states\n",
    "def random_mixed_state(n,d,j):\n",
    "    #TODO\n",
    "    return 0"
   ]
  },
  {
   "cell_type": "code",
   "execution_count": 106,
   "metadata": {},
   "outputs": [],
   "source": [
    "#discrete wigner function calculation\n",
    "def x_shift(vec):\n",
    "    return np.append(vec[1:],vec[0])\n",
    "\n",
    "def z_clock(vec, d):\n",
    "    return vec * np.exp(2j*np.pi/d*np.array([i for i in range(len(vec))]))\n",
    "\n",
    "def weyl(vec, d, a_1, a_2):\n",
    "    #TODO\n",
    "    return 0\n",
    "\n",
    "def weyl_dag(vec, d, a_1, a_2):\n",
    "    #TODO\n",
    "    return 0\n",
    "\n",
    "def phase_sp_pt_0(vec, d, a_1, a_2):\n",
    "    #TODO\n",
    "    return 0\n",
    "\n",
    "def phase_sp_pt(vec, d, a_1, a_2):\n",
    "    #TODO\n",
    "    return 0\n",
    "\n",
    "def discrete_wigner_pure(vec, d, p, q):\n",
    "    if (d % 2 == 0):\n",
    "        print(\"Invalid input:\",d,\"is not odd\")\n",
    "        return -1\n",
    "    result = 0\n",
    "    inv2d = inv2(d)\n",
    "    for i in range(d):\n",
    "        result += 1/d * (np.e ** (-2j*np.pi*p*i/d)) * np.conj(vec[(q - inv2d*i) % d]) * vec[(q + inv2d*i) % d]\n",
    "    #take real part to get rid of weird rounding errors\n",
    "    return np.real(result)\n",
    "\n",
    "def discrete_wigner_general(rho, d, p, q):\n",
    "    #TODO\n",
    "    return 0"
   ]
  },
  {
   "cell_type": "code",
   "execution_count": null,
   "metadata": {},
   "outputs": [],
   "source": []
  },
  {
   "cell_type": "code",
   "execution_count": 146,
   "metadata": {},
   "outputs": [
    {
     "name": "stdout",
     "output_type": "stream",
     "text": [
      "[ 0.28272827-0.3008456j   0.12974111+0.07352885j  0.0296326 +0.00894468j\n",
      " -0.18552222-0.35027265j -0.38873718-0.04994328j  0.07505992+0.23014872j\n",
      "  0.19579458-0.52986986j  0.13572231+0.30200369j  0.09105578+0.00458485j]\n",
      "0.9999999999999998\n",
      "0.759542505021441\n"
     ]
    }
   ],
   "source": [
    "#testing\n",
    "a = random_pure_state(2,3)\n",
    "print(a)\n",
    "#print(a * np.exp(2j*np.pi/3*np.array([i for i in range(3**2)])))\n",
    "w = [[discrete_wigner_pure(a, 9, p, q) for q in range(9)] for p in range(9)]\n",
    "#print(w)\n",
    "print(summatrix(w))\n",
    "wabs = [[abs(discrete_wigner_pure(a, 9, p, q)) for q in range(9)] for p in range(9)]\n",
    "print((summatrix(wabs) - 1)/2)"
   ]
  },
  {
   "cell_type": "code",
   "execution_count": null,
   "metadata": {},
   "outputs": [],
   "source": []
  }
 ],
 "metadata": {
  "kernelspec": {
   "display_name": "Python 3",
   "language": "python",
   "name": "python3"
  },
  "language_info": {
   "codemirror_mode": {
    "name": "ipython",
    "version": 3
   },
   "file_extension": ".py",
   "mimetype": "text/x-python",
   "name": "python",
   "nbconvert_exporter": "python",
   "pygments_lexer": "ipython3",
   "version": "3.7.4"
  }
 },
 "nbformat": 4,
 "nbformat_minor": 2
}
