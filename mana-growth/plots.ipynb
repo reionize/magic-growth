{
 "cells": [
  {
   "cell_type": "markdown",
   "metadata": {},
   "source": [
    "# generate plots\n",
    "\n",
    "Blocks for different plots"
   ]
  },
  {
   "cell_type": "code",
   "execution_count": 1,
   "metadata": {},
   "outputs": [],
   "source": [
    "import matplotlib.pyplot as plt\n",
    "import matplotlib.font_manager"
   ]
  },
  {
   "cell_type": "code",
   "execution_count": 2,
   "metadata": {},
   "outputs": [],
   "source": [
    "tables = {}\n",
    "d = 3"
   ]
  },
  {
   "cell_type": "code",
   "execution_count": 50,
   "metadata": {},
   "outputs": [],
   "source": [
    "for n in [3, 4]:\n",
    "    key = 'h_' + str(n) + '_' + str(d)\n",
    "    f = open('output/random_pure_' + str(n) + '_' + str(d), 'r')\n",
    "    tables[key] = []\n",
    "    while True:\n",
    "        a = f.readline()\n",
    "        if a == '':\n",
    "            break\n",
    "        tables[key].append(float(a))\n",
    "    f.close()\n",
    "    for t in [10 + 10*i for i in range(20)]:\n",
    "        key = '1d_' + str(n) + '_' + str(d) + '_' + str(t)\n",
    "        f = open('output/random_1d_' + str(n) + '_' + str(d) + '_' + str(t), 'r')\n",
    "        tables[key] = []\n",
    "        while True:\n",
    "            a = f.readline()\n",
    "            if a == '':\n",
    "                break\n",
    "            tables[key].append(float(a))\n",
    "        f.close()"
   ]
  },
  {
   "cell_type": "code",
   "execution_count": 81,
   "metadata": {},
   "outputs": [
    {
     "data": {
      "text/plain": [
       "<Figure size 432x288 with 0 Axes>"
      ]
     },
     "metadata": {},
     "output_type": "display_data"
    },
    {
     "data": {
      "image/png": "[encoded data removed]",
      "text/plain": [
       "<Figure size 1000x800 with 1 Axes>"
      ]
     },
     "metadata": {
      "needs_background": "light"
     },
     "output_type": "display_data"
    }
   ],
   "source": [
    "plt.clf()\n",
    "fig, ax = plt.subplots()\n",
    "ax.spines['right'].set_visible(False)\n",
    "ax.spines['left'].set_visible(False)\n",
    "ax.spines['top'].set_visible(False)\n",
    "n, bins, patches = plt.hist(tables['1d_3_3_60'], [0.017*i for i in range(100)], density=True, facecolor='b', alpha=0.5)\n",
    "n, bins, patches = plt.hist(tables['h_3_3'], bins, density=True, facecolor='r', alpha=0.5)\n",
    "for tick in ax.get_xticklabels():\n",
    "    tick.set_fontname(\"DIN Alternate\")\n",
    "    #tick.set_fontname(\"cmr10\")\n",
    "#plt.xlabel('Mana of output state')\n",
    "#plt.ylabel('Frequency')\n",
    "#plt.title('Mana distribution')\n",
    "#font = {'size':20, 'family':'serif', 'serif': ['computer modern roman']}\n",
    "#plt.rc('font',**font)\n",
    "fig.set_size_inches(10, 8)\n",
    "fig.set_dpi(100)\n",
    "frame = plt.gca()\n",
    "frame.axes.get_yaxis().set_visible(False)\n",
    "plt.rcParams.update({'font.size': 24})\n",
    "#plt.grid(True)\n",
    "plt.show()"
   ]
  },
  {
   "cell_type": "code",
   "execution_count": null,
   "metadata": {},
   "outputs": [],
   "source": []
  }
 ],
 "metadata": {
  "kernelspec": {
   "display_name": "Python 3",
   "language": "python",
   "name": "python3"
  },
  "language_info": {
   "codemirror_mode": {
    "name": "ipython",
    "version": 3
   },
   "file_extension": ".py",
   "mimetype": "text/x-python",
   "name": "python",
   "nbconvert_exporter": "python",
   "pygments_lexer": "ipython3",
   "version": "3.7.4"
  }
 },
 "nbformat": 4,
 "nbformat_minor": 2
}
