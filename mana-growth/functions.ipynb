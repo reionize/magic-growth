{
 "cells": [
  {
   "cell_type": "code",
   "execution_count": 2,
   "metadata": {},
   "outputs": [],
   "source": [
    "import numpy as np\n",
    "import math\n",
    "from sympy.ntheory import isprime"
   ]
  },
  {
   "cell_type": "code",
   "execution_count": 3,
   "metadata": {},
   "outputs": [],
   "source": [
    "#useful number theory definitions and helper functions\n",
    "def inv2(k):\n",
    "    if (k % 2 == 0):\n",
    "        print(\"Invalid input:\",k,\"is not odd\")\n",
    "        return -1\n",
    "    return int((k+1)/2)\n",
    "\n",
    "def summatrix(m):\n",
    "    return sum([sum(m[i]) for i in range(len(m))])"
   ]
  },
  {
   "cell_type": "code",
   "execution_count": 4,
   "metadata": {},
   "outputs": [],
   "source": [
    "#generate random pure states with local dimension d and size n\n",
    "def random_pure_state(n,d):\n",
    "    vec = np.random.rand(d**n)\n",
    "    norm = np.linalg.norm(vec)\n",
    "    phases = np.exp(np.random.rand(d**n)*2j*np.pi)\n",
    "    return vec*phases/norm\n",
    "\n",
    "#generate random mixed states with local dimension d and size n as statistical mixtures of up to j pure states\n",
    "def random_mixed_state(n,d,j):\n",
    "    #TODO\n",
    "    return 0"
   ]
  },
  {
   "cell_type": "code",
   "execution_count": 13,
   "metadata": {},
   "outputs": [],
   "source": [
    "#discrete wigner function calculation\n",
    "def x_shift(vec):\n",
    "    return np.append(vec[1:],vec[0])\n",
    "\n",
    "def z_clock(vec):\n",
    "    return vec * np.exp(2j*np.pi/len(vec)*np.array([i for i in range(len(vec))]))\n",
    "\n",
    "def weyl(vec, a_1, a_2):\n",
    "    #TODO\n",
    "    return 0\n",
    "\n",
    "def weyl_dag(vec, a_1, a_2):\n",
    "    #TODO\n",
    "    return 0\n",
    "\n",
    "def phase_sp_pt_0(vec, a_1, a_2):\n",
    "    #TODO\n",
    "    return 0\n",
    "\n",
    "def phase_sp_pt(vec, a_1, a_2):\n",
    "    #TODO\n",
    "    return 0\n",
    "\n",
    "def discrete_wigner_pure(vec, p, q):\n",
    "    d = len(vec)\n",
    "    if (d % 2 == 0):\n",
    "        print(\"Invalid input:\",d,\"is not odd\")\n",
    "        return -1\n",
    "    result = 0\n",
    "    inv2d = inv2(d)\n",
    "    for i in range(d):\n",
    "        result += 1/d * (np.e ** (-2j*np.pi*p*i/d)) * np.conj(vec[(q - inv2d*i) % d]) * vec[(q + inv2d*i) % d]\n",
    "    #take real part to get rid of weird rounding errors\n",
    "    return np.real(result)\n",
    "\n",
    "def discrete_wigner_general(rho, d, p, q):\n",
    "    #TODO\n",
    "    return 0"
   ]
  },
  {
   "cell_type": "code",
   "execution_count": 18,
   "metadata": {},
   "outputs": [
    {
     "name": "stdout",
     "output_type": "stream",
     "text": [
      "[-0.03455304+0.0572721j   0.08460742+0.32927485j -0.00567939+0.28297474j\n",
      " -0.3315429 -0.07778128j -0.29998462-0.09898147j  0.10805923-0.55218208j\n",
      " -0.0613684 -0.1142891j  -0.34868496+0.35225449j  0.00563092+0.07052591j]\n",
      "1.0\n",
      "0.7317677165660892\n"
     ]
    }
   ],
   "source": [
    "#testing\n",
    "a = random_pure_state(2,3)\n",
    "print(a)\n",
    "#print(a * np.exp(2j*np.pi/3*np.array([i for i in range(3**2)])))\n",
    "w = [[discrete_wigner_pure(a, p, q) for q in range(9)] for p in range(9)]\n",
    "#print(w)\n",
    "print(summatrix(w))\n",
    "wabs = [[abs(discrete_wigner_pure(a, p, q)) for q in range(9)] for p in range(9)]\n",
    "print((summatrix(wabs) - 1)/2)"
   ]
  },
  {
   "cell_type": "code",
   "execution_count": null,
   "metadata": {},
   "outputs": [],
   "source": [
    "#construct some states of interest\n",
    "#chosen gate set is universal for odd prime d\n",
    "def random_sycamore_like(n,d,t):\n",
    "    #TODO\n",
    "    #return state vector\n",
    "    \n",
    "def random_local_1d(n,d,t):\n",
    "    #TODO\n",
    "    #return state vector\n",
    "    \n",
    "#generalization of walsh-hadamard\n",
    "def hadamard(vec,i,d):\n",
    "    #TODO\n",
    "    return 0\n",
    "\n",
    "#generalization of z or phase gate\n",
    "def pdd(vec,i,d):\n",
    "    #TODO\n",
    "    #phase of -omega^2 on last component\n",
    "    return 0\n",
    "\n",
    "#arbitrary rotation about random plane\n",
    "def rotation(vec,i,d,theta):\n",
    "    #TODO\n",
    "    return 0\n",
    "\n",
    "#generalization of cnot\n",
    "def sumd(vec,i,j,d):\n",
    "    #TODO\n",
    "    return 0"
   ]
  },
  {
   "cell_type": "code",
   "execution_count": 12,
   "metadata": {},
   "outputs": [],
   "source": [
    "import matplotlib.pyplot as plt"
   ]
  }
 ],
 "metadata": {
  "kernelspec": {
   "display_name": "Python 3",
   "language": "python",
   "name": "python3"
  },
  "language_info": {
   "codemirror_mode": {
    "name": "ipython",
    "version": 3
   },
   "file_extension": ".py",
   "mimetype": "text/x-python",
   "name": "python",
   "nbconvert_exporter": "python",
   "pygments_lexer": "ipython3",
   "version": "3.7.4"
  }
 },
 "nbformat": 4,
 "nbformat_minor": 2
}
