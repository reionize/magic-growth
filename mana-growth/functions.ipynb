{
 "cells": [
  {
   "cell_type": "code",
   "execution_count": 40,
   "metadata": {},
   "outputs": [],
   "source": [
    "import numpy as np\n",
    "import math\n",
    "from sympy.ntheory import isprime"
   ]
  },
  {
   "cell_type": "code",
   "execution_count": 49,
   "metadata": {},
   "outputs": [],
   "source": [
    "#useful number theory definitions and helper functions\n",
    "def inv2(k):\n",
    "    if (k % 2 == 0):\n",
    "        print(\"Invalid input:\",k,\"is not odd\")\n",
    "        return -1\n",
    "    return int((k+1)/2)\n",
    "\n",
    "def summatrix(m):\n",
    "    return sum([sum(m[i]) for i in range(len(m))])\n",
    "\n",
    "def kronaction(m,i,n,d):\n",
    "    for j in range(i):\n",
    "        m = np.kron(np.identity(d),m)\n",
    "    for j in range(i+1,n):\n",
    "        m = np.kron(m, np.identity(d))\n",
    "    return m\n",
    "\n",
    "def basis_to_int(string,n,d):\n",
    "    if (n != len(string)):\n",
    "        print(\"Invalid input: string must contain\",n,\"qudits\")\n",
    "        return -1\n",
    "    return sum([int(string[i])*d**(n-i-1) for i in range(n)])\n",
    "\n",
    "def int_to_basis(index,n,d):\n",
    "    result = \"\"\n",
    "    for i in range(n):\n",
    "        result += str(index // d**(n-i-1))\n",
    "        index %= d**(n-i-1)\n",
    "    return result"
   ]
  },
  {
   "cell_type": "code",
   "execution_count": 42,
   "metadata": {},
   "outputs": [],
   "source": [
    "#generate random pure states with local dimension d and size n\n",
    "def random_pure_state(n,d):\n",
    "    vec = np.random.rand(d**n)\n",
    "    norm = np.linalg.norm(vec)\n",
    "    phases = np.exp(np.random.rand(d**n)*2j*np.pi)\n",
    "    return vec*phases/norm\n",
    "\n",
    "#generate random mixed states with local dimension d and size n as statistical mixtures of up to j pure states\n",
    "def random_mixed_state(n,d,j):\n",
    "    #TODO\n",
    "    return 0"
   ]
  },
  {
   "cell_type": "code",
   "execution_count": 43,
   "metadata": {},
   "outputs": [],
   "source": [
    "#discrete wigner function calculation\n",
    "def x_shift(vec):\n",
    "    return np.append(vec[1:],vec[0])\n",
    "\n",
    "def z_clock(vec):\n",
    "    return vec * np.exp(2j*np.pi/len(vec)*np.array([i for i in range(len(vec))]))\n",
    "\n",
    "def weyl(vec, a_1, a_2):\n",
    "    #TODO\n",
    "    return 0\n",
    "\n",
    "def weyl_dag(vec, a_1, a_2):\n",
    "    #TODO\n",
    "    return 0\n",
    "\n",
    "def phase_sp_pt_0(vec, a_1, a_2):\n",
    "    #TODO\n",
    "    return 0\n",
    "\n",
    "def phase_sp_pt(vec, a_1, a_2):\n",
    "    #TODO\n",
    "    return 0\n",
    "\n",
    "def discrete_wigner_pure(vec, p, q):\n",
    "    d = len(vec)\n",
    "    if (d % 2 == 0):\n",
    "        print(\"Invalid input:\",d,\"is not odd\")\n",
    "        return -1\n",
    "    result = 0\n",
    "    inv2d = inv2(d)\n",
    "    for i in range(d):\n",
    "        result += 1/d * (np.e ** (-2j*np.pi*p*i/d)) * np.conj(vec[(q - inv2d*i) % d]) * vec[(q + inv2d*i) % d]\n",
    "    #take real part to get rid of weird rounding errors\n",
    "    return np.real(result)\n",
    "\n",
    "def discrete_wigner_general(rho, d, p, q):\n",
    "    #TODO\n",
    "    return 0"
   ]
  },
  {
   "cell_type": "code",
   "execution_count": 44,
   "metadata": {},
   "outputs": [
    {
     "name": "stdout",
     "output_type": "stream",
     "text": [
      "[ 0.25167461+0.12090166j  0.06300391-0.06381321j -0.28471805+0.03580328j\n",
      "  0.05163236+0.40643553j  0.45077383-0.08439492j -0.17104902-0.24739126j\n",
      "  0.02040912+0.02246562j  0.21404214-0.13669723j -0.17528056-0.51659911j]\n",
      "0.9999999999999998\n",
      "0.7250378303972655\n"
     ]
    }
   ],
   "source": [
    "#testing\n",
    "a = random_pure_state(2,3)\n",
    "print(a)\n",
    "#print(a * np.exp(2j*np.pi/3*np.array([i for i in range(3**2)])))\n",
    "w = [[discrete_wigner_pure(a, p, q) for q in range(9)] for p in range(9)]\n",
    "#print(w)\n",
    "print(summatrix(w))\n",
    "wabs = [[abs(discrete_wigner_pure(a, p, q)) for q in range(9)] for p in range(9)]\n",
    "print((summatrix(wabs) - 1)/2)"
   ]
  },
  {
   "cell_type": "code",
   "execution_count": 104,
   "metadata": {},
   "outputs": [],
   "source": [
    "#construct some states of interest\n",
    "def random_sycamore_like(n,d,t):\n",
    "    #TODO\n",
    "    #return state vector\n",
    "    return 0\n",
    "    \n",
    "def random_local_1d(n,d,t):\n",
    "    #TODO\n",
    "    #return state vector\n",
    "    return 0\n",
    "\n",
    "def random_local_1d_clifford(n,d,t):\n",
    "    #TODO\n",
    "    #return state vector\n",
    "    #should always give 0 mana\n",
    "    return 0\n",
    "    \n",
    "#generalization of walsh-hadamard\n",
    "def hadamard(vec,i,n,d):\n",
    "    omega = np.e**(2j*np.pi/d)\n",
    "    h = [[1/math.sqrt(d)*omega**(k*(d-i)) for k in range(d)] for i in range(d)]\n",
    "    return np.dot(kronaction(h,i,n,d),vec)\n",
    "\n",
    "#generalization of phase gate\n",
    "def pdd(vec,i,f,n,d):\n",
    "    p = np.identity(d)*(1+0j)\n",
    "    p[f][f] = - np.e**(4j*np.pi/d)\n",
    "    return np.dot(kronaction(p,i,n,d),vec)\n",
    "\n",
    "#small rotations\n",
    "def rotation(vec,i,f,n,d):\n",
    "    r = np.identity(d)*(1+0j)\n",
    "    r[f][f] = np.e**(2j*np.pi/d**n)\n",
    "    return np.dot(kronaction(r,i,n,d),vec)\n",
    "\n",
    "#generalization of cnot, i is control and j is target\n",
    "def sumd(vec,i,j,n,d):\n",
    "    c = np.zeros((d**n,d**n))\n",
    "    for k in range(d**n):\n",
    "        out = int_to_basis(k,n,d)\n",
    "        b = (int(out[j]) - int(out[i])) % d\n",
    "        c[k][basis_to_int(out[:j] + str(b) + out[j+1:],n,d)] = 1\n",
    "    return np.dot(c,vec)"
   ]
  },
  {
   "cell_type": "code",
   "execution_count": 109,
   "metadata": {},
   "outputs": [
    {
     "data": {
      "text/plain": [
       "array([ 0.70710678-1.73191211e-16j,  0.        +0.00000000e+00j,\n",
       "       -0.70710678+8.65956056e-17j,  0.        +0.00000000e+00j])"
      ]
     },
     "execution_count": 109,
     "metadata": {},
     "output_type": "execute_result"
    }
   ],
   "source": [
    "sumd([0,0,1,0],0,1,2,2)\n",
    "#rotation([1,1,1,1],1,1,2,2)\n",
    "#pdd([1,1,1,1],1,1,2,2)\n",
    "sumd([0,0,0,3,0,0,1,2,0],0,1,2,3)\n",
    "hadamard([0,0,1,0],0,2,2)"
   ]
  },
  {
   "cell_type": "code",
   "execution_count": 12,
   "metadata": {},
   "outputs": [],
   "source": [
    "import matplotlib.pyplot as plt"
   ]
  }
 ],
 "metadata": {
  "kernelspec": {
   "display_name": "Python 3",
   "language": "python",
   "name": "python3"
  },
  "language_info": {
   "codemirror_mode": {
    "name": "ipython",
    "version": 3
   },
   "file_extension": ".py",
   "mimetype": "text/x-python",
   "name": "python",
   "nbconvert_exporter": "python",
   "pygments_lexer": "ipython3",
   "version": "3.7.4"
  }
 },
 "nbformat": 4,
 "nbformat_minor": 2
}
