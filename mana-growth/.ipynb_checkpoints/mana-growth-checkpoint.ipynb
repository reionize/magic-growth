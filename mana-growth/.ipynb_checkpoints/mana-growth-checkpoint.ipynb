{
 "cells": [
  {
   "cell_type": "markdown",
   "metadata": {},
   "source": [
    "# mana-growth\n",
    "\n",
    "This is the main notebook/source code for now, to be reorganized later. Code blocks are organized roughly in the order used, with two main function definition blocks.  There are also separate code blocks for generating data for different states for ease of working."
   ]
  },
  {
   "cell_type": "code",
   "execution_count": 1,
   "metadata": {},
   "outputs": [],
   "source": [
    "import numpy as np\n",
    "import math\n",
    "import random\n",
    "#from sympy.ntheory import isprime"
   ]
  },
  {
   "cell_type": "code",
   "execution_count": 2,
   "metadata": {},
   "outputs": [],
   "source": [
    "#useful number theory definitions and helper functions\n",
    "def inv2(k):\n",
    "    if (k % 2 == 0):\n",
    "        print(\"Invalid input:\",k,\"is not odd\")\n",
    "        return -1\n",
    "    return int((k+1)/2)\n",
    "\n",
    "def summatrix(m):\n",
    "    return sum([sum(m[i]) for i in range(len(m))])\n",
    "\n",
    "def kronaction(m,i,n,d):\n",
    "    for j in range(i):\n",
    "        m = np.kron(np.identity(d),m)\n",
    "    for j in range(i+1,n):\n",
    "        m = np.kron(m, np.identity(d))\n",
    "    return m\n",
    "\n",
    "def basis_to_int(string,n,d):\n",
    "    if (n != len(string)):\n",
    "        print(\"Invalid input: string must contain\",n,\"qudits\")\n",
    "        return -1\n",
    "    return sum([int(string[i])*d**(n-i-1) for i in range(n)])\n",
    "\n",
    "def int_to_basis(index,n,d):\n",
    "    result = \"\"\n",
    "    for i in range(n):\n",
    "        result += str(index // d**(n-i-1))\n",
    "        index %= d**(n-i-1)\n",
    "    return result"
   ]
  },
  {
   "cell_type": "code",
   "execution_count": 3,
   "metadata": {},
   "outputs": [],
   "source": [
    "#generate random pure states with local dimension d and size n\n",
    "def random_pure_state(n,d):\n",
    "    vec = np.random.rand(d**n)\n",
    "    norm = np.linalg.norm(vec)\n",
    "    phases = np.exp(np.random.rand(d**n)*2j*np.pi)\n",
    "    return vec*phases/norm\n",
    "\n",
    "#generate random mixed states with local dimension d and size n as statistical mixtures of up to j pure states\n",
    "def random_mixed_state(n,d,j):\n",
    "    #TODO\n",
    "    return 0"
   ]
  },
  {
   "cell_type": "code",
   "execution_count": 4,
   "metadata": {},
   "outputs": [],
   "source": [
    "#discrete wigner function calculation\n",
    "def x_shift(vec):\n",
    "    return np.append(vec[1:],vec[0])\n",
    "\n",
    "def z_clock(vec):\n",
    "    return vec * np.exp(2j*np.pi/len(vec)*np.array([i for i in range(len(vec))]))\n",
    "\n",
    "def weyl(vec, a_1, a_2):\n",
    "    #TODO\n",
    "    return 0\n",
    "\n",
    "def weyl_dag(vec, a_1, a_2):\n",
    "    #TODO\n",
    "    return 0\n",
    "\n",
    "def phase_sp_pt_0(vec, a_1, a_2):\n",
    "    #TODO\n",
    "    return 0\n",
    "\n",
    "def phase_sp_pt(vec, a_1, a_2):\n",
    "    #TODO\n",
    "    return 0\n",
    "\n",
    "def discrete_wigner_pure(vec, p, q):\n",
    "    d = len(vec)\n",
    "    if (d % 2 == 0):\n",
    "        print(\"Invalid input:\",d,\"is not odd\")\n",
    "        return -1\n",
    "    result = 0\n",
    "    inv2d = inv2(d)\n",
    "    for i in range(d):\n",
    "        result += 1/d * (np.e ** (-2j*np.pi*p*i/d)) * np.conj(vec[(q - inv2d*i) % d]) * vec[(q + inv2d*i) % d]\n",
    "    #take real part to get rid of weird rounding errors\n",
    "    return np.real(result)\n",
    "\n",
    "def discrete_wigner_general(rho, d, p, q):\n",
    "    #TODO\n",
    "    return 0\n",
    "\n",
    "def full_discrete_wigner_pure(vec):\n",
    "    return [[discrete_wigner_pure(vec, p, q) for q in range(len(vec))] for p in range(len(vec))]\n",
    "\n",
    "def mana_pure(vec):\n",
    "    wabs = [[abs(discrete_wigner_pure(vec, p, q)) for q in range(len(vec))] for p in range(len(vec))]\n",
    "    return (summatrix(wabs) - 1)/2"
   ]
  },
  {
   "cell_type": "code",
   "execution_count": 179,
   "metadata": {},
   "outputs": [
    {
     "name": "stdout",
     "output_type": "stream",
     "text": [
      "[ 0.31091202-0.05023424j  0.22007513+0.06255256j  0.11905992+0.05234195j\n",
      " -0.29457081+0.14857275j -0.09248748-0.50030875j -0.06308945-0.05787366j\n",
      "  0.2792417 -0.13710973j  0.00517057-0.19168374j  0.16955637-0.5424181j ]\n",
      "1.0000000000000002\n",
      "0.6974626970194948\n",
      "0.6974626970194948\n"
     ]
    }
   ],
   "source": [
    "#testing\n",
    "a = random_pure_state(2,3)\n",
    "print(a)\n",
    "#print(a * np.exp(2j*np.pi/3*np.array([i for i in range(3**2)])))\n",
    "w = [[discrete_wigner_pure(a, p, q) for q in range(9)] for p in range(9)]\n",
    "#print(w)\n",
    "print(summatrix(w))\n",
    "wabs = [[abs(discrete_wigner_pure(a, p, q)) for q in range(9)] for p in range(9)]\n",
    "print((summatrix(wabs) - 1)/2)\n",
    "print(mana_pure(a))"
   ]
  },
  {
   "cell_type": "code",
   "execution_count": 5,
   "metadata": {},
   "outputs": [],
   "source": [
    "#construct some states of interest\n",
    "def random_local_2d(m,n,d,t):\n",
    "    #TODO\n",
    "    #return d**(m x n) state vector\n",
    "    #allows 2-qubit gates between neighboring qubits\n",
    "    state = np.zeros(d**(m*n))\n",
    "    return state\n",
    "    \n",
    "def random_local_1d(n,d,t):\n",
    "    #allows 2-qubit gates between neighboring qubits\n",
    "    #n should be at least 3 to use toffoli gates\n",
    "    state = np.zeros(d**n)*(1+0j)\n",
    "    state[random.randrange(d**n)] = 1\n",
    "    history = []\n",
    "    g = 5\n",
    "    if (n < 2):\n",
    "        g = 3\n",
    "    elif (n < 3):\n",
    "        g = 4\n",
    "    for s in range(t):\n",
    "        gt = random.randrange(g)\n",
    "        if (gt == 0):\n",
    "            i = random.randrange(n)\n",
    "            state = hadamard(state,i,n,d)\n",
    "        elif (gt == 1):\n",
    "            i = random.randrange(n)\n",
    "            state = phase(state,i,n,d)\n",
    "        elif (gt == 2):\n",
    "            i = random.randrange(n)\n",
    "            state = smult(state,i,n,d)\n",
    "        elif (gt == 3):\n",
    "            i = random.randrange(n-1)\n",
    "            r = random.randrange(1)\n",
    "            if (r == 0):\n",
    "                j = i + 1\n",
    "            else:\n",
    "                j = i\n",
    "                i += 1\n",
    "            state = sumd(state,i,j,n,d)\n",
    "        else:\n",
    "            i = random.randrange(n-2)\n",
    "            r = random.randrange(5)\n",
    "            if (r == 0):\n",
    "                j = i + 1\n",
    "                k = i + 2\n",
    "            elif (r == 1):\n",
    "                k = i + 1\n",
    "                j = i + 2\n",
    "            elif (r == 2):\n",
    "                j = i\n",
    "                k = i + 2\n",
    "                i += 1\n",
    "            elif (r == 3):\n",
    "                j = i\n",
    "                k = i + 1\n",
    "                i += 2\n",
    "            elif (r == 4):\n",
    "                k = i\n",
    "                j = i + 2\n",
    "                i += 1\n",
    "            else:\n",
    "                k = i\n",
    "                j = i + 1\n",
    "                i += 2\n",
    "            state = toffoli(state,i,j,k,n,d)\n",
    "    return state\n",
    "\n",
    "def random_local_1d_clifford(n,d,t):\n",
    "    #allows 2-qubit gates between neighboring qubits\n",
    "    #should always give 0 mana\n",
    "    state = np.zeros(d**n)*(1+0j)\n",
    "    state[random.randrange(d**n)] = 1\n",
    "    history = []\n",
    "    g = 4\n",
    "    if (n < 2):\n",
    "        g = 3\n",
    "    #print(state)\n",
    "    #print(mana_pure(state))\n",
    "    for s in range(t):\n",
    "        gt = random.randrange(g)\n",
    "        history.append(gt)\n",
    "        if (gt == 0):\n",
    "            i = random.randrange(n)\n",
    "            state = hadamard(state,i,n,d)\n",
    "        elif (gt == 1):\n",
    "            i = random.randrange(n)\n",
    "            state = phase(state,i,n,d)\n",
    "        elif (gt == 2):\n",
    "            i = random.randrange(n)\n",
    "            state = smult(state,i,n,d)\n",
    "        elif (gt == 3):\n",
    "            i = random.randrange(n-1)\n",
    "            r = random.randrange(1)\n",
    "            if (r == 0):\n",
    "                j = i + 1\n",
    "            else:\n",
    "                j = i\n",
    "                i += 1\n",
    "            state = sumd(state,i,j,n,d)\n",
    "    #print(history)\n",
    "    return state\n",
    "    \n",
    "#generalization of walsh-hadamard\n",
    "def hadamard(vec,i,n,d):\n",
    "    omega = np.e**(2j*np.pi/d)\n",
    "    h = [[1/math.sqrt(d)*omega**(k*(d-i)) for k in range(d)] for i in range(d)]\n",
    "    #print(type(vec),vec)\n",
    "    return np.dot(kronaction(h,i,n,d),vec)\n",
    "\n",
    "#generalization of phase gate for odd prime d\n",
    "def phase(vec,i,n,d):\n",
    "    p = np.identity(d)*(1+0j)\n",
    "    for f in range(d):\n",
    "        p[f][f] = np.e**(f*(f-1)*1j*np.pi/d)\n",
    "    return np.dot(kronaction(p,i,n,d),vec)\n",
    "\n",
    "#generalization of s gate, takes j -> 2j which works for odd prime d\n",
    "def smult(vec,i,n,d):\n",
    "    s = np.zeros((d,d))*(1+0j)\n",
    "    for f in range(d):\n",
    "        s[(2*f)%d][f] = 1\n",
    "    return np.dot(kronaction(s,i,n,d),vec)\n",
    "\n",
    "#generalization of cnot, i is control and j is target\n",
    "def sumd(vec,i,j,n,d):\n",
    "    c = np.zeros((d**n,d**n))\n",
    "    for k in range(d**n):\n",
    "        out = int_to_basis(k,n,d)\n",
    "        b = (int(out[j]) - int(out[i])) % d\n",
    "        c[k][basis_to_int(out[:j] + str(b) + out[j+1:],n,d)] = 1\n",
    "    return np.dot(c,vec)\n",
    "\n",
    "#generalization of toffoli, takes a, b, c -> a, b, c + ab\n",
    "def toffoli(vec,i,j,k,n,d):\n",
    "    t = np.zeros((d**n,d**n))*(1+0j)\n",
    "    for f in range(d**n):\n",
    "        out = int_to_basis(f,n,d)\n",
    "        b = (int(out[k]) - int(out[i])*int(out[j])) % d\n",
    "        t[f][basis_to_int(out[:k] + str(b) + out[k+1:],n,d)] = 1\n",
    "    return np.dot(t,vec)"
   ]
  },
  {
   "cell_type": "code",
   "execution_count": 137,
   "metadata": {},
   "outputs": [
    {
     "data": {
      "text/plain": [
       "array([0.+0.j, 0.+0.j, 0.+0.j, 0.+0.j, 0.+0.j, 0.+0.j, 0.+0.j, 1.+0.j])"
      ]
     },
     "execution_count": 137,
     "metadata": {},
     "output_type": "execute_result"
    }
   ],
   "source": [
    "#testing\n",
    "#sumd([0,0,1,0],0,1,2,2)\n",
    "sumd([0,0,0,3,0,0,1,2,0],0,1,2,3)\n",
    "hadamard([0,0,1,0],0,2,2)\n",
    "phase([1,1,1,1,1,1,1,1,1],0,2,3)\n",
    "smult([0,1,2,3,4],0,1,5)\n",
    "toffoli([0,0,0,0,0,0,1,0],0,1,2,3,2)"
   ]
  },
  {
   "cell_type": "code",
   "execution_count": 6,
   "metadata": {},
   "outputs": [],
   "source": [
    "import matplotlib.pyplot as plt"
   ]
  },
  {
   "cell_type": "code",
   "execution_count": 281,
   "metadata": {},
   "outputs": [
    {
     "name": "stdout",
     "output_type": "stream",
     "text": [
      "0.4917152388678163\n",
      "1.6012541453165583\n",
      "0.4917152388678142\n"
     ]
    }
   ],
   "source": [
    "#more testing\n",
    "a = random_local_1d_clifford(3,3,20)\n",
    "#print(np.ndarray.round(a,4))\n",
    "#print(summatrix(full_discrete_wigner_pure(a)))\n",
    "print(mana_pure(a))\n",
    "b = random_pure_state(3,3)\n",
    "print(mana_pure(b))\n",
    "c = random_local_1d(3,3,20)\n",
    "#print(np.ndarray.round(c,4))\n",
    "print(mana_pure(c))"
   ]
  },
  {
   "cell_type": "markdown",
   "metadata": {},
   "source": [
    "### notes and organization\n",
    "- Planning to run for n = 3, 4, 5, if time 6, 7, 8\n",
    "- d = 3, 5, 7\n",
    "- t = 5, 10, 20, 50"
   ]
  },
  {
   "cell_type": "code",
   "execution_count": 11,
   "metadata": {},
   "outputs": [
    {
     "name": "stdout",
     "output_type": "stream",
     "text": [
      "5.727090047920688\n",
      "1.2104852055829467\n"
     ]
    }
   ],
   "source": [
    "b = random_pure_state(5,3)\n",
    "print(mana_pure(b))\n",
    "c = random_local_1d(5,3,20)\n",
    "print(mana_pure(c))"
   ]
  },
  {
   "cell_type": "code",
   "execution_count": null,
   "metadata": {},
   "outputs": [],
   "source": [
    "n = 3\n",
    "for d in [3, 5, 7]:\n",
    "    f = open('output/random_pure_' + str(n) + '_' + str(d), 'a')\n",
    "    for sample in range(10):\n",
    "        print(d, sample)\n",
    "        s = random_pure_state(3, 3)\n",
    "        f.write(str(mana_pure(s)))\n",
    "        f.write('\\n')\n",
    "    f.close()    "
   ]
  },
  {
   "cell_type": "code",
   "execution_count": null,
   "metadata": {},
   "outputs": [
    {
     "name": "stdout",
     "output_type": "stream",
     "text": [
      "3 0\n",
      "3 1\n",
      "3 2\n",
      "3 3\n",
      "3 4\n",
      "3 5\n",
      "3 6\n",
      "3 7\n",
      "3 8\n",
      "3 9\n",
      "5 0\n",
      "5 1\n",
      "5 2\n",
      "5 3\n",
      "5 4\n",
      "5 5\n",
      "5 6\n",
      "5 7\n",
      "5 8\n",
      "5 9\n",
      "7 0\n",
      "7 1\n"
     ]
    }
   ],
   "source": [
    "t = 10\n",
    "for d in [3, 5, 7]:\n",
    "    f = open('output/random_1d_' + str(n) + '_' + str(d) + '_' + str(t), 'a')\n",
    "    for sample in range(10):\n",
    "        print(d, sample)\n",
    "        s = random_local_1d(n, d, t)\n",
    "        f.write(str(mana_pure(s)))\n",
    "        f.write('\\n')\n",
    "    f.close()  "
   ]
  },
  {
   "cell_type": "code",
   "execution_count": null,
   "metadata": {},
   "outputs": [],
   "source": []
  }
 ],
 "metadata": {
  "kernelspec": {
   "display_name": "Python 3",
   "language": "python",
   "name": "python3"
  },
  "language_info": {
   "codemirror_mode": {
    "name": "ipython",
    "version": 3
   },
   "file_extension": ".py",
   "mimetype": "text/x-python",
   "name": "python",
   "nbconvert_exporter": "python",
   "pygments_lexer": "ipython3",
   "version": "3.7.4"
  }
 },
 "nbformat": 4,
 "nbformat_minor": 2
}
